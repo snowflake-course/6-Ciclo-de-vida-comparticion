{
 "cells": [
  {
   "cell_type": "code",
   "execution_count": 16,
   "metadata": {},
   "outputs": [],
   "source": [
    "import snowflake.connector\n",
    "from snowflake.sqlalchemy import URL\n",
    "from sqlalchemy import create_engine"
   ]
  },
  {
   "cell_type": "code",
   "execution_count": null,
   "metadata": {},
   "outputs": [],
   "source": [
    "#Definición del motor de conexión a Snowflake\n",
    "engine = create_engine(URL(\n",
    "    user='',\n",
    "    password='',\n",
    "    account_identifier='',\n",
    "    database = 'PRIMERABBDD',\n",
    "    schema = 'PRIMERESQUEMA',\n",
    "    warehouse = 'COMPUTE_WH',\n",
    "    role='ACCOUNTADMIN',\n",
    "))"
   ]
  },
  {
   "cell_type": "code",
   "execution_count": null,
   "metadata": {},
   "outputs": [],
   "source": [
    "#Iniciar la conexión\n",
    "connection = engine.connect()"
   ]
  },
  {
   "cell_type": "code",
   "execution_count": null,
   "metadata": {},
   "outputs": [],
   "source": [
    "#Leer de una tabla de Snowflake\n",
    "df = pd.read_sql_query(\"SELECT * FROM ts_tbl\", engine)"
   ]
  },
  {
   "cell_type": "code",
   "execution_count": null,
   "metadata": {},
   "outputs": [],
   "source": [
    "#Escribir en una tabla Snowflake\n",
    "from snowflake.connector.pandas_tools import pd_writer\n",
    "#¿Qué hacer si la tabla ya existe? replace, append, o fail?\n",
    "if_exists = 'replace'\n",
    "df =...\n",
    "with engine.connect() as con:\n",
    "        df.to_sql(name=<nombre_tabla_snowflake>.lower(), con=con, if_exists=if_exists, method=pd_writer)\n"
   ]
  }
 ],
 "metadata": {
  "kernelspec": {
   "display_name": "Python 3",
   "language": "python",
   "name": "python3"
  },
  "language_info": {
   "codemirror_mode": {
    "name": "ipython",
    "version": 3
   },
   "file_extension": ".py",
   "mimetype": "text/x-python",
   "name": "python",
   "nbconvert_exporter": "python",
   "pygments_lexer": "ipython3",
   "version": "3.8.3"
  }
 },
 "nbformat": 4,
 "nbformat_minor": 4
}
